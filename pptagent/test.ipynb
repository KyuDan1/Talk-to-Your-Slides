{
 "cells": [
  {
   "cell_type": "code",
   "execution_count": 1,
   "id": "994aa541",
   "metadata": {},
   "outputs": [],
   "source": [
    "from utils import get_simple_powerpoint_info"
   ]
  },
  {
   "cell_type": "code",
   "execution_count": 2,
   "id": "5d3a5941",
   "metadata": {},
   "outputs": [
    {
     "data": {
      "text/plain": [
       "{'파일 이름': 'TeXBLEU_ppt.pptx', '슬라이드 수': 21}"
      ]
     },
     "execution_count": 2,
     "metadata": {},
     "output_type": "execute_result"
    }
   ],
   "source": [
    "get_simple_powerpoint_info()"
   ]
  },
  {
   "cell_type": "code",
   "execution_count": 3,
   "id": "803c5967",
   "metadata": {},
   "outputs": [
    {
     "name": "stdout",
     "output_type": "stream",
     "text": [
      "Requirement already satisfied: dotenv in c:\\users\\wjdrb\\anaconda3\\envs\\ui\\lib\\site-packages (0.9.9)\n",
      "Requirement already satisfied: python-dotenv in c:\\users\\wjdrb\\anaconda3\\envs\\ui\\lib\\site-packages (from dotenv) (1.1.0)\n",
      "Note: you may need to restart the kernel to use updated packages.\n"
     ]
    }
   ],
   "source": [
    "%pip install dotenv"
   ]
  },
  {
   "cell_type": "code",
   "execution_count": 4,
   "id": "32677178",
   "metadata": {},
   "outputs": [],
   "source": [
    "import anthropic\n",
    "import os\n",
    "from dotenv import load_dotenv"
   ]
  },
  {
   "cell_type": "code",
   "execution_count": 5,
   "id": "26dc166f",
   "metadata": {},
   "outputs": [
    {
     "name": "stdout",
     "output_type": "stream",
     "text": [
      "[TextBlock(citations=None, text=\"Hello! I'm Claude. How can I assist you today? I'm here to answer questions, discuss ideas, or help with various tasks. Feel free to let me know what you'd like to talk about.\", type='text')]\n"
     ]
    }
   ],
   "source": [
    "load_dotenv()\n",
    "ANTHROPIC_API_KEY = os.environ.get('ANTHROPIC_API_KEY')\n",
    "client = anthropic.Anthropic(\n",
    "    \n",
    "    api_key=ANTHROPIC_API_KEY,\n",
    ")\n",
    "message = client.messages.create(\n",
    "    model=\"claude-3-7-sonnet-20250219\",\n",
    "    max_tokens=1024,\n",
    "    messages=[\n",
    "        {\"role\": \"user\", \"content\": \"Hello, Claude\"}\n",
    "    ]\n",
    ")\n",
    "print(message.content)\n"
   ]
  },
  {
   "cell_type": "code",
   "execution_count": 6,
   "id": "266ed60e",
   "metadata": {},
   "outputs": [
    {
     "data": {
      "text/plain": [
       "Message(id='msg_019qbbRHBDaZtYn3riFawSdY', content=[TextBlock(citations=None, text=\"Hello! I'm Claude. How can I assist you today? I'm here to answer questions, discuss ideas, or help with various tasks. Feel free to let me know what you'd like to talk about.\", type='text')], model='claude-3-7-sonnet-20250219', role='assistant', stop_reason='end_turn', stop_sequence=None, type='message', usage=Usage(cache_creation_input_tokens=0, cache_read_input_tokens=0, input_tokens=10, output_tokens=46))"
      ]
     },
     "execution_count": 6,
     "metadata": {},
     "output_type": "execute_result"
    }
   ],
   "source": [
    "message"
   ]
  },
  {
   "cell_type": "code",
   "execution_count": 8,
   "id": "cfcdfc93",
   "metadata": {},
   "outputs": [
    {
     "data": {
      "text/plain": [
       "True"
      ]
     },
     "execution_count": 8,
     "metadata": {},
     "output_type": "execute_result"
    }
   ],
   "source": [
    "json_file = \"\"\"\n",
    "{'understanding': 'Translate the content of slide 2 to English.', 'tasks': [{'page number': 2, 'description': 'Translate all text elements on the slide', 'target': 'All text boxes, shapes with text, and title', 'action': 'Translate to English', 'contents': 'Found 6 objects in the slide number 2.\\nObject 1:\\n  Name: Title 1\\n  Type: Placeholder\\n  Position: Left=66.0, Top=28.75\\n  Size: Width=828.0, Height=104.37503814697266\\n  Text content: 전체적인 내용\\n  Font: Arial, Size: 44.0\\n  Bold: -1, Italic: 0\\n  Alignment: Left\\n  Cannot retrieve all text formatting details\\nObject 2:\\n  Name: Content Placeholder 2\\n  Type: Placeholder\\n  Position: Left=66.0, Top=133.1250457763672\\n  Size: Width=639.142822265625, Height=84.3077163696289\\n  Text content: 트랜스포머는 인코더와 디코더로 이루어져 있습니다.\\n  Font: Arial, Size: 28.0\\n  Bold: -1, Italic: 0\\n  Alignment: Left\\n  Cannot retrieve all text formatting details\\nObject 3:\\n  Name: Slide Number Placeholder 3\\n  Type: Placeholder\\n  Position: Left=678.0, Top=500.5\\n  Size: Width=216.0, Height=28.75\\n  Text content: 2 of 30\\n  Font: Arial, Size: 18.0\\n  Bold: 0, Italic: 0\\n  Alignment: Right\\n  Cannot retrieve all text formatting details\\nObject 4:\\n  Name: TextBox 5\\n  Type: Text Box\\n  Position: Left=66.0, Top=280.9012451171875\\n  Size: Width=347.7142639160156, Height=75.12653350830078\\n  Text content: 내 이름은 Kyudan Jung입니다.\\n  Font: Arial, Size: 28.0\\n  Bold: -1, Italic: 0\\n  Alignment: Left\\n  Cannot retrieve all text formatting details\\nObject 5:\\n  Name: Picture 6\\n  Type: Picture\\n  Position: Left=612.5714111328125, Top=253.15748596191406\\n  Size: Width=245.6103973388672, Height=195.36520385742188\\n  Picture: Picture 6\\n  Alternative Text: \\nObject 6:\\n  Name: TextBox 8\\n  Type: Text Box\\n  Position: Left=66.0, Top=425.5000915527344\\n  Size: Width=559.9999389648438, Height=46.0452766418457\\n  Text content: 순수이성비판은 칸트의 저서입니다.\\n  Font: Arial, Size: 32.0\\n  Bold: -1, Italic: 0\\n  Alignment: Left\\n  Cannot retrieve all text formatting details\\nParsing complete.', 'edit target type': ['Title 1', 'Content Placeholder 2', 'Slide Number Placeholder 3', 'TextBox 5', 'TextBox 8'], 'edit target content': ['전체적인 내용', '트랜스포머는 인코더와 디코더로 이루어져 있습니다.', '2 of 30', '내 이름은 Kyudan Jung입니다.', '순수이성비판은 칸트의 저서입니다.'], 'content after edit': ['Overall Content', 'Transformers consist of an encoder and a decoder.', '2 of 30', 'My name is Kyudan Jung.', 'Critique of Pure Reason is a book by Kant.']}]}\n",
    "\"\"\"\n",
    "from test_Applier import test_Applier\n",
    "applier = test_Applier(api_key=ANTHROPIC_API_KEY)\n",
    "applier(json_file)\n"
   ]
  },
  {
   "cell_type": "code",
   "execution_count": 27,
   "id": "8d0b2c2f",
   "metadata": {},
   "outputs": [],
   "source": [
    "ex_json = \"\"\"\n",
    "\n",
    "{'understanding': 'Translate the content of slide 2 into English.', 'tasks': [{'page number': 2, 'description': 'Translate all text elements on the slide', 'target': 'All text boxes, shapes with text, and title', 'action': 'Translate to English', 'contents': 'Found 6 objects in the slide number 2.\\nObject 1:\\n  Name: Title 1\\n  Type: Placeholder\\n  Position: Left=66.0, Top=28.75\\n  Size: Width=828.0, Height=104.37503814697266\\n  Text content: 전체적인 내용\\n  Font: Arial, Size: 44.0\\n  Bold: -1, Italic: 0\\n  Alignment: Left\\n  Cannot retrieve all text formatting details\\nObject 2:\\n  Name: Content Placeholder 2\\n  Type: Placeholder\\n  Position: Left=66.0, Top=133.1250457763672\\n  Size: Width=639.142822265625, Height=84.3077163696289\\n  Text content: 트랜스포머는 인코더와 디코더로 이루어져 있습니다.\\n  Font: Arial, Size: 28.0\\n  Bold: -1, Italic: 0\\n  Alignment: Left\\n  Cannot retrieve all text formatting details\\nObject 3:\\n  Name: Slide Number Placeholder 3\\n  Type: Placeholder\\n  Position: Left=678.0, Top=500.5\\n  Size: Width=216.0, Height=28.75\\n  Text content: 2 of 30\\n  Font: Arial, Size: 18.0\\n  Bold: 0, Italic: 0\\n  Alignment: Right\\n  Cannot retrieve all text formatting details\\nObject 4:\\n  Name: TextBox 5\\n  Type: Text Box\\n  Position: Left=66.0, Top=280.9012451171875\\n  Size: Width=347.7142639160156, Height=75.12653350830078\\n  Text content: 내 이름은 Kyudan Jung입니다.\\n  Font: Arial, Size: 28.0\\n  Bold: -1, Italic: 0\\n  Alignment: Left\\n  Cannot retrieve all text formatting details\\nObject 5:\\n  Name: Picture 6\\n  Type: Picture\\n  Position: Left=612.5714111328125, Top=253.15748596191406\\n  Size: Width=245.6103973388672, Height=195.36520385742188\\n  Picture: Picture 6\\n  Alternative Text: \\nObject 6:\\n  Name: TextBox 8\\n  Type: Text Box\\n  Position: Left=66.0, Top=425.5000915527344\\n  Size: Width=559.9999389648438, Height=46.0452766418457\\n  Text content: 순수이성비판은 칸트의 저서입니다.\\n  Font: Arial, Size: 32.0\\n  Bold: -1, Italic: 0\\n  Alignment: Left\\n  Cannot retrieve all text formatting details\\nParsing complete.', 'edit target type': ['Title 1', 'Content Placeholder 2', 'Slide Number Placeholder 3', 'TextBox 5', 'TextBox 8'], 'edit target content': ['전체적인 내용', '트랜스포머는 인코더와 디코더로 이루어져 있습니다.', '2 of 30', '내 이름은 Kyudan Jung입니다.', '순수이성비판은 칸트의 저서입니다.'], 'content after edit': ['Overall Content', 'Transformers consist of an encoder and a decoder.', '2 of 30', 'My name is Kyudan Jung.', 'Critique of Pure Reason is a book by Kant.']}]}\n",
    "\"\"\""
   ]
  },
  {
   "cell_type": "code",
   "execution_count": 28,
   "id": "902fbdae",
   "metadata": {},
   "outputs": [],
   "source": [
    "import json\n",
    "def load_json_with_direct_replace(json_str):\n",
    "    # 모든 제어 문자를 직접 치환\n",
    "    json_str = json_str.strip()\n",
    "    \n",
    "    # 1. 작은따옴표를 큰따옴표로 변환\n",
    "    json_str = json_str.replace(\"'\", '\"')\n",
    "    \n",
    "    # 2. 모든 제어 문자를 이스케이프 처리\n",
    "    # 줄바꿈, 탭, 캐리지 리턴 등을 이스케이프 시퀀스로 변환\n",
    "    escaped_str = \"\"\n",
    "    for c in json_str:\n",
    "        if c == '\\n':\n",
    "            escaped_str += '\\\\n'\n",
    "        elif c == '\\t':\n",
    "            escaped_str += '\\\\t'\n",
    "        elif c == '\\r':\n",
    "            escaped_str += '\\\\r'\n",
    "        elif ord(c) < 32:  # 기타 제어 문자\n",
    "            escaped_str += f'\\\\u{ord(c):04x}'\n",
    "        else:\n",
    "            escaped_str += c\n",
    "    \n",
    "    # 3. JSON 파싱\n",
    "    return json.loads(escaped_str)"
   ]
  },
  {
   "cell_type": "code",
   "execution_count": 29,
   "id": "46fcfdda",
   "metadata": {},
   "outputs": [],
   "source": [
    "processed_json=load_json_with_direct_replace(ex_json)"
   ]
  },
  {
   "cell_type": "code",
   "execution_count": 30,
   "id": "98c9a895",
   "metadata": {},
   "outputs": [],
   "source": [
    "def _call_claude_api(prompt, api_key):\n",
    "    import json\n",
    "    import urllib.request\n",
    "    import urllib.error\n",
    "\n",
    "    \n",
    "    # API 요청 준비\n",
    "    url = \"https://api.anthropic.com/v1/messages\"\n",
    "    headers = {\n",
    "        \"x-api-key\": api_key,\n",
    "        \"anthropic-version\": \"2023-06-01\",\n",
    "        \"content-type\": \"application/json\"\n",
    "    }\n",
    "    \n",
    "    # API 요청 데이터\n",
    "    data = {\n",
    "        \"model\": \"claude-3-7-sonnet-20250219\",\n",
    "        \"messages\": [\n",
    "            {\n",
    "                \"role\": \"user\",\n",
    "                \"content\": f\"{prompt}\"\n",
    "            }\n",
    "        ],\n",
    "        \"max_tokens\": 4000\n",
    "    }\n",
    "\n",
    "    \n",
    "# 요청 설정\n",
    "    req = urllib.request.Request(url)\n",
    "    for key, value in headers.items():\n",
    "        req.add_header(key, value)\n",
    "    \n",
    "    # JSON 데이터 인코딩\n",
    "    json_data = json.dumps(data).encode('utf-8')\n",
    "    \n",
    "    # API 호출\n",
    "    with urllib.request.urlopen(req, json_data) as response:\n",
    "        response_text = response.read().decode('utf-8')\n",
    "        result = json.loads(response_text)\n",
    "        \n",
    "        print(\"API 응답 수신 완료\")\n",
    "        return result[\"content\"][0][\"text\"]\n",
    "    "
   ]
  },
  {
   "cell_type": "code",
   "execution_count": 31,
   "id": "3e7471c6",
   "metadata": {},
   "outputs": [],
   "source": [
    "import json\n",
    "def  _generate_code(api_key, type, before, after,\n",
    "                                  slide_num, total_content):\n",
    "\n",
    "    # API 호출을 위한 프롬프트 구성\n",
    "    prompt = f\"\"\"\n",
    "    Generate Python code to modify an active PowerPoint presentation based on the provided JSON task data.\n",
    "\n",
    "    The code should:\n",
    "    1. Find each slide specified by page number: {slide_num}\n",
    "    2. Please refer to all of the following content: {total_content}\n",
    "    3. What you need to change is {type} and the previous content is {before}.\n",
    "    4. Finally, make the modification as {after}.\n",
    "    5. Create executable code, and only generate code.\n",
    "\n",
    "    Remember:\n",
    "- Use only the win32com library for PowerPoint interactions.\n",
    "- Generate executable code only, with no additional text or explanations.\n",
    "- Include necessary error handling and logging within the script.\n",
    "- Ensure the script is complete and can be run as-is, assuming the PowerPoint application is open with an active presentation.\n",
    "\n",
    "    \"\"\"\n",
    "\n",
    "        \n",
    "    # Claude API 호출\n",
    "    code = _call_claude_api(prompt, api_key)\n",
    "    \n",
    "    # 코드 전처리\n",
    "    code = code.strip()\n",
    "    if code.startswith(\"```python\"):\n",
    "        code = code[len(\"```python\"):].strip()\n",
    "    if code.startswith(\"```\"):\n",
    "        code = code[3:].strip()\n",
    "    if code.endswith(\"```\"):\n",
    "        code = code[:-3].strip()\n",
    "    \n",
    "    # error_occurred 변수 확인\n",
    "    if \"error_occurred = False\" not in code:\n",
    "        code = \"error_occurred = False\\n\\n\" + code\n",
    "    \n",
    "    return code"
   ]
  },
  {
   "cell_type": "code",
   "execution_count": 39,
   "id": "5a976e4d",
   "metadata": {},
   "outputs": [
    {
     "name": "stdout",
     "output_type": "stream",
     "text": [
      "{'page number': 2, 'description': 'Translate all text elements on the slide', 'target': 'All text boxes, shapes with text, and title', 'action': 'Translate to English', 'contents': 'Found 6 objects in the slide number 2.\\nObject 1:\\n  Name: Title 1\\n  Type: Placeholder\\n  Position: Left=66.0, Top=28.75\\n  Size: Width=828.0, Height=104.37503814697266\\n  Text content: 전체적인 내용\\n  Font: Arial, Size: 44.0\\n  Bold: -1, Italic: 0\\n  Alignment: Left\\n  Cannot retrieve all text formatting details\\nObject 2:\\n  Name: Content Placeholder 2\\n  Type: Placeholder\\n  Position: Left=66.0, Top=133.1250457763672\\n  Size: Width=639.142822265625, Height=84.3077163696289\\n  Text content: 트랜스포머는 인코더와 디코더로 이루어져 있습니다.\\n  Font: Arial, Size: 28.0\\n  Bold: -1, Italic: 0\\n  Alignment: Left\\n  Cannot retrieve all text formatting details\\nObject 3:\\n  Name: Slide Number Placeholder 3\\n  Type: Placeholder\\n  Position: Left=678.0, Top=500.5\\n  Size: Width=216.0, Height=28.75\\n  Text content: 2 of 30\\n  Font: Arial, Size: 18.0\\n  Bold: 0, Italic: 0\\n  Alignment: Right\\n  Cannot retrieve all text formatting details\\nObject 4:\\n  Name: TextBox 5\\n  Type: Text Box\\n  Position: Left=66.0, Top=280.9012451171875\\n  Size: Width=347.7142639160156, Height=75.12653350830078\\n  Text content: 내 이름은 Kyudan Jung입니다.\\n  Font: Arial, Size: 28.0\\n  Bold: -1, Italic: 0\\n  Alignment: Left\\n  Cannot retrieve all text formatting details\\nObject 5:\\n  Name: Picture 6\\n  Type: Picture\\n  Position: Left=612.5714111328125, Top=253.15748596191406\\n  Size: Width=245.6103973388672, Height=195.36520385742188\\n  Picture: Picture 6\\n  Alternative Text: \\nObject 6:\\n  Name: TextBox 8\\n  Type: Text Box\\n  Position: Left=66.0, Top=425.5000915527344\\n  Size: Width=559.9999389648438, Height=46.0452766418457\\n  Text content: 순수이성비판은 칸트의 저서입니다.\\n  Font: Arial, Size: 32.0\\n  Bold: -1, Italic: 0\\n  Alignment: Left\\n  Cannot retrieve all text formatting details\\nParsing complete.', 'edit target type': ['Title 1', 'Content Placeholder 2', 'Slide Number Placeholder 3', 'TextBox 5', 'TextBox 8'], 'edit target content': ['전체적인 내용', '트랜스포머는 인코더와 디코더로 이루어져 있습니다.', '2 of 30', '내 이름은 Kyudan Jung입니다.', '순수이성비판은 칸트의 저서입니다.'], 'content after edit': ['Overall Content', 'Transformers consist of an encoder and a decoder.', '2 of 30', 'My name is Kyudan Jung.', 'Critique of Pure Reason is a book by Kant.']}\n",
      "API 응답 수신 완료\n",
      "2025-04-13 22:29:52,325 - INFO - Connecting to PowerPoint...\n",
      "2025-04-13 22:29:52,333 - INFO - Connected to presentation: TeXBLEU_ppt.pptx\n",
      "2025-04-13 22:29:52,336 - INFO - Processing slide 2...\n",
      "2025-04-13 22:29:52,363 - INFO - Found Title 1 shape with current text: '전체적인 내용'\n",
      "2025-04-13 22:29:52,380 - INFO - Changed text to: 'Overall Content'\n",
      "2025-04-13 22:29:52,404 - INFO - Modification completed successfully.\n",
      "API 응답 수신 완료\n",
      "2025-04-13 22:30:01,475 - INFO - Connecting to PowerPoint...\n",
      "2025-04-13 22:30:01,483 - INFO - Accessing slide 2...\n",
      "2025-04-13 22:30:01,516 - INFO - Text modified successfully!\n",
      "2025-04-13 22:30:01,529 - INFO - Modification process completed.\n",
      "\n",
      "API 응답 수신 완료\n",
      "2025-04-13 22:30:09,060 - INFO - Found 'TextBox 5' with current text: '내 이름은 Kyudan Jung입니다.'\n",
      "2025-04-13 22:30:09,075 - INFO - Text updated to: 'My name is Kyudan Jung.'\n",
      "2025-04-13 22:30:09,077 - INFO - Presentation modification completed successfully.\n",
      "API 응답 수신 완료\n",
      "2025-04-13 22:30:17,231 - INFO - Successfully updated text in 'TextBox 8' on slide 2\n"
     ]
    }
   ],
   "source": [
    "load_dotenv()\n",
    "ANTHROPIC_API_KEY = os.environ.get('ANTHROPIC_API_KEY')\n",
    "for task_idx, task in enumerate(processed_json['tasks']):\n",
    "    print(task)\n",
    "    slide_num = task['page number']\n",
    "    total_content = task['contents']\n",
    "    \n",
    "    edit_target_type = task['edit target type']\n",
    "    edit_target_content = task['edit target content']\n",
    "    content_after_edit = task['content after edit']\n",
    "\n",
    "    for type, before, after in zip(edit_target_type, edit_target_content, content_after_edit):\n",
    "        if before == after:\n",
    "            print(\"\")\n",
    "        else:\n",
    "            code = _generate_code(ANTHROPIC_API_KEY, type, before, after,\n",
    "                                  slide_num, total_content)\n",
    "            exec(code)\n",
    "            "
   ]
  },
  {
   "cell_type": "code",
   "execution_count": 41,
   "id": "7617d68a",
   "metadata": {},
   "outputs": [
    {
     "name": "stdout",
     "output_type": "stream",
     "text": [
      "2025-04-13 23:10:27,867 - INFO - Successfully accessed slide 3\n",
      "2025-04-13 23:10:27,875 - INFO - Found shape: 제목 1\n",
      "2025-04-13 23:10:27,879 - INFO - Current text: 1.1 Metric for LaTeX Format \n",
      "2025-04-13 23:10:27,890 - INFO - Text updated successfully to: 1.1 LaTeX 형식 평가 지표\n"
     ]
    }
   ],
   "source": [
    "import win32com.client\n",
    "import logging\n",
    "import sys\n",
    "\n",
    "# Configure logging\n",
    "logging.basicConfig(\n",
    "    level=logging.INFO,\n",
    "    format='%(asctime)s - %(levelname)s - %(message)s',\n",
    "    handlers=[logging.StreamHandler(sys.stdout)]\n",
    ")\n",
    "\n",
    "def modify_powerpoint_slide():\n",
    "    try:\n",
    "        # Connect to running PowerPoint instance\n",
    "        ppt_app = win32com.client.GetObject(Class=\"PowerPoint.Application\")\n",
    "\n",
    "        # Get active presentation\n",
    "        active_pres = ppt_app.ActivePresentation\n",
    "\n",
    "        # Slide number to modify\n",
    "        slide_num = 3\n",
    "\n",
    "        # Get the slide\n",
    "        if slide_num <= active_pres.Slides.Count:\n",
    "            slide = active_pres.Slides(slide_num)\n",
    "            logging.info(f\"Successfully accessed slide {slide_num}\")\n",
    "\n",
    "            # Look for the specific shape with name \"제목 1\"\n",
    "            target_shape = None\n",
    "            for shape in slide.Shapes:\n",
    "                try:\n",
    "                    if shape.Name == \"제목 1\":\n",
    "                        target_shape = shape\n",
    "                        logging.info(f\"Found shape: {shape.Name}\")\n",
    "                        break\n",
    "                except Exception as e:\n",
    "                    logging.warning(f\"Error checking shape: {str(e)}\")\n",
    "\n",
    "            # If the shape is found, modify its text\n",
    "            if target_shape:\n",
    "                old_text = target_shape.TextFrame.TextRange.Text\n",
    "                logging.info(f\"Current text: {old_text}\")\n",
    "\n",
    "                # Update the text\n",
    "                target_shape.TextFrame.TextRange.Text = \"1.1 LaTeX 형식 평가 지표\"\n",
    "                logging.info(f\"Text updated successfully to: 1.1 LaTeX 형식 평가 지표\")\n",
    "            else:\n",
    "                logging.error(\"Could not find shape with name '제목 1'\")\n",
    "\n",
    "                # Alternative approach - try finding by text content\n",
    "                for shape in slide.Shapes:\n",
    "                    try:\n",
    "                        if hasattr(shape, \"TextFrame\") and shape.TextFrame.HasText:\n",
    "                            if \"1.1 Metric for LaTeX Format\" in shape.TextFrame.TextRange.Text:\n",
    "                                shape.TextFrame.TextRange.Text = \"1.1 LaTeX 형식 평가 지표\"\n",
    "                                logging.info(\"Text updated using content-based search\")\n",
    "                                break\n",
    "                    except Exception as e:\n",
    "                        pass\n",
    "        else:\n",
    "            logging.error(f\"Slide {slide_num} does not exist in the presentation\")\n",
    "\n",
    "    except Exception as e:\n",
    "        logging.error(f\"An error occurred: {str(e)}\")\n",
    "\n",
    "if __name__ == \"__main__\":\n",
    "    modify_powerpoint_slide()"
   ]
  }
 ],
 "metadata": {
  "kernelspec": {
   "display_name": "ui",
   "language": "python",
   "name": "python3"
  },
  "language_info": {
   "codemirror_mode": {
    "name": "ipython",
    "version": 3
   },
   "file_extension": ".py",
   "mimetype": "text/x-python",
   "name": "python",
   "nbconvert_exporter": "python",
   "pygments_lexer": "ipython3",
   "version": "3.10.16"
  }
 },
 "nbformat": 4,
 "nbformat_minor": 5
}
