{
 "cells": [
  {
   "cell_type": "code",
   "execution_count": 1,
   "id": "994aa541",
   "metadata": {},
   "outputs": [],
   "source": [
    "from utils import get_simple_powerpoint_info"
   ]
  },
  {
   "cell_type": "code",
   "execution_count": 2,
   "id": "5d3a5941",
   "metadata": {},
   "outputs": [
    {
     "data": {
      "text/plain": [
       "{'파일 이름': 'TeXBLEU_ppt.pptx', '슬라이드 수': 21}"
      ]
     },
     "execution_count": 2,
     "metadata": {},
     "output_type": "execute_result"
    }
   ],
   "source": [
    "get_simple_powerpoint_info()"
   ]
  },
  {
   "cell_type": "code",
   "execution_count": null,
   "id": "32677178",
   "metadata": {},
   "outputs": [],
   "source": []
  }
 ],
 "metadata": {
  "kernelspec": {
   "display_name": "ui",
   "language": "python",
   "name": "python3"
  },
  "language_info": {
   "codemirror_mode": {
    "name": "ipython",
    "version": 3
   },
   "file_extension": ".py",
   "mimetype": "text/x-python",
   "name": "python",
   "nbconvert_exporter": "python",
   "pygments_lexer": "ipython3",
   "version": "3.10.16"
  }
 },
 "nbformat": 4,
 "nbformat_minor": 5
}
