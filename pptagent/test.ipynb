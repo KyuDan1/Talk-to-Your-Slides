{
 "cells": [
  {
   "cell_type": "code",
   "execution_count": null,
   "id": "bf8faf73",
   "metadata": {},
   "outputs": [
    {
     "ename": "com_error",
     "evalue": "(-2147352567, '예외가 발생했습니다.', (0, 'Microsoft PowerPoint', \"Slides.Item : Integer out of range. 1 is not in Index's valid range of 1 to 0.\", '', 0, -2147188160), None)",
     "output_type": "error",
     "traceback": [
      "\u001b[1;31m---------------------------------------------------------------------------\u001b[0m",
      "\u001b[1;31mcom_error\u001b[0m                                 Traceback (most recent call last)",
      "Cell \u001b[1;32mIn[3], line 12\u001b[0m\n\u001b[0;32m      9\u001b[0m presentation \u001b[38;5;241m=\u001b[39m ppt\u001b[38;5;241m.\u001b[39mPresentations\u001b[38;5;241m.\u001b[39mAdd()\n\u001b[0;32m     11\u001b[0m \u001b[38;5;66;03m# 특정 슬라이드에 접근 (예: 첫 번째 슬라이드)\u001b[39;00m\n\u001b[1;32m---> 12\u001b[0m slide \u001b[38;5;241m=\u001b[39m \u001b[43mpresentation\u001b[49m\u001b[38;5;241;43m.\u001b[39;49m\u001b[43mSlides\u001b[49m\u001b[43m(\u001b[49m\u001b[38;5;241;43m1\u001b[39;49m\u001b[43m)\u001b[49m  \u001b[38;5;66;03m# 인덱스는 1부터 시작\u001b[39;00m\n\u001b[0;32m     14\u001b[0m \u001b[38;5;66;03m# 슬라이드 노트에 텍스트 추가\u001b[39;00m\n\u001b[0;32m     15\u001b[0m notes_page \u001b[38;5;241m=\u001b[39m slide\u001b[38;5;241m.\u001b[39mNotesPage\n",
      "File \u001b[1;32mc:\\Users\\wjdrb\\anaconda3\\envs\\ui\\lib\\site-packages\\win32com\\client\\dynamic.py:213\u001b[0m, in \u001b[0;36mCDispatch.__call__\u001b[1;34m(self, *args)\u001b[0m\n\u001b[0;32m    210\u001b[0m \u001b[38;5;28;01mif\u001b[39;00m invkind \u001b[38;5;129;01mis\u001b[39;00m \u001b[38;5;129;01mnot\u001b[39;00m \u001b[38;5;28;01mNone\u001b[39;00m:\n\u001b[0;32m    211\u001b[0m     allArgs \u001b[38;5;241m=\u001b[39m (dispid, LCID, invkind, \u001b[38;5;241m1\u001b[39m) \u001b[38;5;241m+\u001b[39m args\n\u001b[0;32m    212\u001b[0m     \u001b[38;5;28;01mreturn\u001b[39;00m \u001b[38;5;28mself\u001b[39m\u001b[38;5;241m.\u001b[39m_get_good_object_(\n\u001b[1;32m--> 213\u001b[0m         \u001b[38;5;28;43mself\u001b[39;49m\u001b[38;5;241;43m.\u001b[39;49m\u001b[43m_oleobj_\u001b[49m\u001b[38;5;241;43m.\u001b[39;49m\u001b[43mInvoke\u001b[49m\u001b[43m(\u001b[49m\u001b[38;5;241;43m*\u001b[39;49m\u001b[43mallArgs\u001b[49m\u001b[43m)\u001b[49m, \u001b[38;5;28mself\u001b[39m\u001b[38;5;241m.\u001b[39m_olerepr_\u001b[38;5;241m.\u001b[39mdefaultDispatchName, \u001b[38;5;28;01mNone\u001b[39;00m\n\u001b[0;32m    214\u001b[0m     )\n\u001b[0;32m    215\u001b[0m \u001b[38;5;28;01mraise\u001b[39;00m \u001b[38;5;167;01mTypeError\u001b[39;00m(\u001b[38;5;124m\"\u001b[39m\u001b[38;5;124mThis dispatch object does not define a default method\u001b[39m\u001b[38;5;124m\"\u001b[39m)\n",
      "\u001b[1;31mcom_error\u001b[0m: (-2147352567, '예외가 발생했습니다.', (0, 'Microsoft PowerPoint', \"Slides.Item : Integer out of range. 1 is not in Index's valid range of 1 to 0.\", '', 0, -2147188160), None)"
     ]
    }
   ],
   "source": []
  },
  {
   "cell_type": "code",
   "execution_count": 9,
   "id": "0883c7a5",
   "metadata": {},
   "outputs": [
    {
     "name": "stdout",
     "output_type": "stream",
     "text": [
      "기존 PowerPoint 애플리케이션에 연결됨\n",
      "프레젠테이션 'test_ppt_원본.pptx' 접근됨\n",
      "현재 활성 슬라이드 3번에 접근됨\n",
      "방법 1 성공: NotesPage.Shapes.Placeholders(2) 사용\n",
      "\n",
      "===== 결과 요약 =====\n",
      "슬라이드 3번의 노트에 텍스트 설정 성공!\n",
      "성공한 방법: 방법 1: NotesPage.Shapes.Placeholders(2)\n",
      "\n",
      "작업 완료\n"
     ]
    }
   ],
   "source": [
    "import win32com.client\n",
    "\n",
    "# 이미 실행 중인 PowerPoint 애플리케이션에 연결\n",
    "try:\n",
    "    ppt = win32com.client.GetActiveObject(\"PowerPoint.Application\")\n",
    "    print(\"기존 PowerPoint 애플리케이션에 연결됨\")\n",
    "except:\n",
    "    # 실행 중인 PowerPoint가 없으면 새로 시작\n",
    "    ppt = win32com.client.Dispatch(\"PowerPoint.Application\")\n",
    "    ppt.Visible = True\n",
    "    print(\"새 PowerPoint 애플리케이션 시작됨\")\n",
    "\n",
    "# 현재 활성화된 프레젠테이션 가져오기\n",
    "presentation = ppt.ActivePresentation\n",
    "print(f\"프레젠테이션 '{presentation.Name}' 접근됨\")\n",
    "\n",
    "# 현재 선택된 슬라이드 또는 특정 슬라이드에 접근\n",
    "success_method = None  # 성공한 방법을 추적하는 변수\n",
    "try:\n",
    "    slide = ppt.ActiveWindow.View.Slide\n",
    "    print(f\"현재 활성 슬라이드 {slide.SlideIndex}번에 접근됨\")\n",
    "except:\n",
    "    # 특정 슬라이드에 접근 (예: 첫 번째 슬라이드)\n",
    "    slide_index = 1\n",
    "    slide = presentation.Slides(slide_index)\n",
    "    print(f\"첫 번째 슬라이드에 접근됨\")\n",
    "\n",
    "# 노트 텍스트 설정하기 - 여러 방법 시도\n",
    "notes_text = \"dlalal\"\n",
    "\n",
    "# 방법 1: 노트 페이지에 직접 접근\n",
    "try:\n",
    "    slide.NotesPage.Shapes.Placeholders(2).TextFrame.TextRange.Text = notes_text\n",
    "    print(\"방법 1 성공: NotesPage.Shapes.Placeholders(2) 사용\")\n",
    "    success_method = \"방법 1: NotesPage.Shapes.Placeholders(2)\"\n",
    "except Exception as e:\n",
    "    print(f\"방법 1 실패: {str(e)}\")\n",
    "    \n",
    "    # 방법 2: 다른 인덱스의 Shape 시도\n",
    "    try:\n",
    "        slide.NotesPage.Shapes(2).TextFrame.TextRange.Text = notes_text\n",
    "        print(\"방법 2 성공: NotesPage.Shapes(2) 사용\")\n",
    "        success_method = \"방법 2: NotesPage.Shapes(2)\"\n",
    "    except Exception as e:\n",
    "        print(f\"방법 2 실패: {str(e)}\")\n",
    "        \n",
    "        # 방법 3: 모든 Shape 탐색\n",
    "        try:\n",
    "            shape_found = False\n",
    "            for shape_idx in range(1, slide.NotesPage.Shapes.Count + 1):\n",
    "                try:\n",
    "                    shape = slide.NotesPage.Shapes(shape_idx)\n",
    "                    if hasattr(shape, 'TextFrame') and hasattr(shape.TextFrame, 'TextRange'):\n",
    "                        shape.TextFrame.TextRange.Text = notes_text\n",
    "                        print(f\"방법 3 성공: Shape {shape_idx}에 텍스트 설정됨\")\n",
    "                        success_method = f\"방법 3: Shape {shape_idx}\"\n",
    "                        shape_found = True\n",
    "                        break\n",
    "                except Exception as inner_e:\n",
    "                    print(f\"  Shape {shape_idx} 처리 중 오류: {str(inner_e)}\")\n",
    "            \n",
    "            if not shape_found:\n",
    "                raise Exception(\"적합한 텍스트 프레임을 가진 Shape을 찾지 못함\")\n",
    "                \n",
    "        except Exception as e:\n",
    "            print(f\"방법 3 실패: {str(e)}\")\n",
    "            \n",
    "            # 방법 4: 노트 속성 직접 사용\n",
    "            try:\n",
    "                slide.Notes = notes_text\n",
    "                print(\"방법 4 성공: slide.Notes 속성 사용\")\n",
    "                success_method = \"방법 4: slide.Notes 속성\"\n",
    "            except Exception as e:\n",
    "                print(f\"방법 4 실패: {str(e)}\")\n",
    "\n",
    "# 결과 요약\n",
    "if success_method:\n",
    "    print(\"\\n===== 결과 요약 =====\")\n",
    "    print(f\"슬라이드 {slide.SlideIndex}번의 노트에 텍스트 설정 성공!\")\n",
    "    print(f\"성공한 방법: {success_method}\")\n",
    "else:\n",
    "    print(\"\\n===== 결과 요약 =====\")\n",
    "    print(\"모든 방법 실패: 슬라이드 노트에 텍스트를 설정하지 못했습니다.\")\n",
    "\n",
    "print(\"\\n작업 완료\")"
   ]
  }
 ],
 "metadata": {
  "kernelspec": {
   "display_name": "ui",
   "language": "python",
   "name": "python3"
  },
  "language_info": {
   "codemirror_mode": {
    "name": "ipython",
    "version": 3
   },
   "file_extension": ".py",
   "mimetype": "text/x-python",
   "name": "python",
   "nbconvert_exporter": "python",
   "pygments_lexer": "ipython3",
   "version": "3.10.16"
  }
 },
 "nbformat": 4,
 "nbformat_minor": 5
}
