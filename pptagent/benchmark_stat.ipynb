{
 "cells": [
  {
   "cell_type": "code",
   "execution_count": 1,
   "id": "ec08c6e3",
   "metadata": {},
   "outputs": [],
   "source": [
    "category_map = {\n",
    "  \"0\": \"TextEditing\", \"1\": \"TextEditing\", \"2\": \"TextEditing\", \n",
    "  \"3\": \"TextEditing\", \"4\": \"TextEditing\", \"5\": \"TextEditing\",\n",
    "  \"6\": \"TextEditing\", \"7\": \"TextEditing\", \"8\": \"TextEditing\",\n",
    "  \"9\": \"TextEditing\", \"10\": \"TextEditing\", \"11\": \"VisualFormatting\",\n",
    "  \"12\": \"VisualFormatting\", \"13\": \"TextEditing\", \"14\": \"VisualFormatting\",\n",
    "  \"15\": \"TextEditing\", \"16\": \"VisualFormatting\", \"17\": \"LayoutAndImageAdjustment\",\n",
    "  \"18\": \"VisualFormatting\", \"19\": \"TextEditing\", \"20\": \"VisualFormatting\",\n",
    "  \"21\": \"VisualFormatting\", \"22\": \"VisualFormatting\", \"23\": \"VisualFormatting\",\n",
    "  \"24\": \"VisualFormatting\", \"25\": \"VisualFormatting\", \"26\": \"VisualFormatting\",\n",
    "  \"27\": \"VisualFormatting\", \"28\": \"VisualFormatting\", \"29\": \"LayoutAndImageAdjustment\",\n",
    "  \"30\": \"LayoutAndImageAdjustment\", \"31\": \"LayoutAndImageAdjustment\", \"32\": \"LayoutAndImageAdjustment\",\n",
    "  \"33\": \"LayoutAndImageAdjustment\", \"34\": \"LayoutAndImageAdjustment\", \"35\": \"LayoutAndImageAdjustment\",\n",
    "  \"36\": \"LayoutAndImageAdjustment\", \"37\": \"LayoutAndImageAdjustment\", \"38\": \"LayoutAndImageAdjustment\",\n",
    "  \"39\": \"LayoutAndImageAdjustment\", \"40\": \"VisualFormatting\", \"41\": \"VisualFormatting\",\n",
    "  \"42\": \"VisualFormatting\", \"43\": \"LayoutAndImageAdjustment\", \"44\": \"LayoutAndImageAdjustment\",\n",
    "  \"45\": \"VisualFormatting\", \"46\": \"SlideStructure\", \"47\": \"SlideStructure\",\n",
    "  \"48\": \"SlideStructure\", \"49\": \"LayoutAndImageAdjustment\", \"50\": \"SlideStructure\",\n",
    "  \"51\": \"SlideStructure\", \"52\": \"SlideStructure\", \"53\": \"VisualFormatting\",\n",
    "  \"54\": \"TextEditing\", \"55\": \"TextEditing\"\n",
    "}"
   ]
  },
  {
   "cell_type": "code",
   "execution_count": 2,
   "id": "bacff753",
   "metadata": {},
   "outputs": [
    {
     "name": "stdout",
     "output_type": "stream",
     "text": [
      "TextEditing: 16\n",
      "VisualFormatting: 19\n",
      "LayoutAndImageAdjustment: 15\n",
      "SlideStructure: 6\n"
     ]
    }
   ],
   "source": [
    "from collections import Counter\n",
    "\n",
    "\n",
    "# 카테고리별 개수 세기\n",
    "category_counts = Counter(category_map.values())\n",
    "\n",
    "# 결과 출력\n",
    "for category, count in category_counts.items():\n",
    "    print(f\"{category}: {count}\")\n"
   ]
  },
  {
   "cell_type": "code",
   "execution_count": null,
   "id": "aa8c9857",
   "metadata": {},
   "outputs": [
    {
     "name": "stdout",
     "output_type": "stream",
     "text": [
      "Instruction counts by category:\n",
      "TextEditing: 116\n",
      "VisualFormatting: 123\n",
      "LayoutAndImageAdjustment: 95\n",
      "SlideStructure: 45\n"
     ]
    },
    {
     "ename": "",
     "evalue": "",
     "output_type": "error",
     "traceback": [
      "\u001b[1;31mThe Kernel crashed while executing code in the current cell or a previous cell. \n",
      "\u001b[1;31mPlease review the code in the cell(s) to identify a possible cause of the failure. \n",
      "\u001b[1;31mClick <a href='https://aka.ms/vscodeJupyterKernelCrash'>here</a> for more info. \n",
      "\u001b[1;31mView Jupyter <a href='command:jupyter.viewOutput'>log</a> for further details."
     ]
    }
   ],
   "source": [
    "import json\n",
    "from collections import Counter\n",
    "\n",
    "# 2. JSON 파일 경로 설정\n",
    "json_path = \"expanded_instruction_379.json\" \n",
    "\n",
    "# 3. JSON 파일 불러오기\n",
    "with open(json_path, \"r\", encoding=\"utf-8\") as f:\n",
    "    instruction_dict = json.load(f)\n",
    "\n",
    "# 4. 카테고리 ID 추출 및 매핑\n",
    "category_ids = [key.split(\"-\")[0] for key in instruction_dict.keys()]\n",
    "category_names = [category_map.get(cid, \"Unknown\") for cid in category_ids]\n",
    "\n",
    "# 5. 카운트 계산\n",
    "category_counts = Counter(category_names)\n",
    "\n",
    "# 6. 결과 출력\n",
    "print(\"Instruction counts by category:\")\n",
    "for category, count in category_counts.items():\n",
    "    print(f\"{category}: {count}\")\n"
   ]
  },
  {
   "cell_type": "code",
   "execution_count": null,
   "id": "e71196b8",
   "metadata": {},
   "outputs": [],
   "source": []
  }
 ],
 "metadata": {
  "kernelspec": {
   "display_name": "pptagent",
   "language": "python",
   "name": "python3"
  },
  "language_info": {
   "codemirror_mode": {
    "name": "ipython",
    "version": 3
   },
   "file_extension": ".py",
   "mimetype": "text/x-python",
   "name": "python",
   "nbconvert_exporter": "python",
   "pygments_lexer": "ipython3",
   "version": "3.9.22"
  }
 },
 "nbformat": 4,
 "nbformat_minor": 5
}
