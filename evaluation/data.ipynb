{
 "cells": [
  {
   "cell_type": "code",
   "execution_count": 1,
   "id": "b06d4a35",
   "metadata": {},
   "outputs": [
    {
     "data": {
      "text/plain": [
       "{'one': [0, 23, 26, 14],\n",
       " 'two': [15, 30],\n",
       " 'three': [2, 3, 4, 6, 13, 16, 19, 29, 31, 32, 34, 35],\n",
       " 'four': [5, 17, 18],\n",
       " 'five': [7],\n",
       " 'six': [8, 10, 11, 1],\n",
       " 'seven': [9, 24, 36],\n",
       " 'eight': [12, 33],\n",
       " 'nine': [20, 21, 25],\n",
       " 'ten': [22],\n",
       " 'eleven': [27],\n",
       " 'twelve': [28]}"
      ]
     },
     "execution_count": 1,
     "metadata": {},
     "output_type": "execute_result"
    }
   ],
   "source": [
    "# key: slide number, value: test data ids\n",
    "{[1,2,3,4]: [0, 23, 26, 14], # 4개, 영어 아닌 텍스트 있음.\n",
    " [5,6]: [15, 30], # 2개, 푸른 계열 도형들 중 하나만 빨간 도형 있음.\n",
    " [7,8,9,10,11,12,13,14,15,16,17,18]: [2, 3, 4, 6, 13, 16, 19, 29, 31, 32, 34, 35], # 12개, 요약해야할 영어 one column text 가 있고 파란색,밑줄 hyperlink text가 있음.\n",
    " [19,20,21]: [5, 17, 18], # 3개, typo가 있는 텍스트박스가 있고 좌우에 크기가 다른 이미지가 하나씩 있음.\n",
    " [22]: [7], # 1개, 대문자 및 punctuation을 잘못한 text가 있음.\n",
    " [23,24,25,26]: [8, 10, 11, 1], #간단한 영어가 있되 32pt가 아니고 line space가 1.5가 아님.\n",
    " [27,28,29]: [9, 24, 36], # 3개, bullet list 텍스트가 있음.\n",
    " [30,31]: [12, 33], # 2개, 흰색 바탕에 흰색에 가까운 텍스트가 있음.\n",
    " [32,33,34]: [20, 21, 25], # 3개, 이미지와 텍스트 쌍이 2쌍 있음.\n",
    " [35]: [22], # 1개, 서로다른 도형 두개가 있음.\n",
    " [36]: [27], # 1개, 간단한 데이터가 있는 표가 있음.\n",
    " [37]: [28] # 1개, 간단한 chart가 있음.\n",
    " }"
   ]
  },
  {
   "cell_type": "markdown",
   "id": "014ca159",
   "metadata": {},
   "source": [
    "1. 영어아닌 텍스트가 있음.\n",
    "2. 푸른 계열 도형들 중 하나만 빨간 도형 있음.\n",
    "3. 요약해야할 영어 one column text 가 있고 파란색,밑줄 hyperlink text가 있음.\n",
    "4. typo가 있는 텍스트박스가 있고 좌우에 크기가 다른 이미지가 하나씩 있음.\n",
    "5. 대문자 및 punctuation을 잘못한 text가 있음.\n",
    "6. 간단한 영어가 있되 32pt가 아니고 line space가 1.5가 아님.\n",
    "7. bullet list 텍스트가 있음.\n",
    "8. 흰색 바탕에 흰색에 가까운 텍스트가 있음.\n",
    "9. 이미지와 텍스트 쌍이 2쌍 있음.\n",
    "10. 서로다른 도형 두개가 있음.\n",
    "11. 간단한 데이터가 있는 표가 있음.\n",
    "12. 간단한 chart가 있음."
   ]
  },
  {
   "cell_type": "code",
   "execution_count": null,
   "id": "e3534a6e",
   "metadata": {},
   "outputs": [],
   "source": [
    "# 평가 시스템 : eval_system\n",
    "# test instruction\n",
    "# test instruction과 slide number를 연결시켜주는 dictionary.\n",
    "# 대입해서 평가하기.\n",
    "# 원본 평가 데이터는 항상 백업 해두고, 새로운 "
   ]
  },
  {
   "cell_type": "code",
   "execution_count": 3,
   "id": "82600930",
   "metadata": {},
   "outputs": [],
   "source": [
    "import sys\n",
    "sys.path.append('C:/Users/wjdrb/PPTAgent-4.16/pptagent')"
   ]
  },
  {
   "cell_type": "code",
   "execution_count": 4,
   "id": "d7f69ae7",
   "metadata": {},
   "outputs": [
    {
     "ename": "ModuleNotFoundError",
     "evalue": "No module named 'loguru'",
     "output_type": "error",
     "traceback": [
      "\u001b[1;31m---------------------------------------------------------------------------\u001b[0m",
      "\u001b[1;31mModuleNotFoundError\u001b[0m                       Traceback (most recent call last)",
      "Cell \u001b[1;32mIn[4], line 1\u001b[0m\n\u001b[1;32m----> 1\u001b[0m \u001b[38;5;28;01mfrom\u001b[39;00m \u001b[38;5;21;01mmain_original\u001b[39;00m \u001b[38;5;28;01mimport\u001b[39;00m \u001b[38;5;241m*\u001b[39m\n",
      "File \u001b[1;32mC:\\Users/wjdrb/PPTAgent-4.16/pptagent\\main_original.py:1\u001b[0m\n\u001b[1;32m----> 1\u001b[0m \u001b[38;5;28;01mfrom\u001b[39;00m \u001b[38;5;21;01mclasses\u001b[39;00m \u001b[38;5;28;01mimport\u001b[39;00m Planner, Parser, Processor, Applier, Reporter, SharedLogMemory\n\u001b[0;32m      2\u001b[0m \u001b[38;5;28;01mfrom\u001b[39;00m \u001b[38;5;21;01mtest_Applier\u001b[39;00m \u001b[38;5;28;01mimport\u001b[39;00m test_Applier\n\u001b[0;32m      3\u001b[0m \u001b[38;5;28;01mimport\u001b[39;00m \u001b[38;5;21;01mjson\u001b[39;00m\n",
      "File \u001b[1;32mC:\\Users/wjdrb/PPTAgent-4.16/pptagent\\classes.py:1\u001b[0m\n\u001b[1;32m----> 1\u001b[0m \u001b[38;5;28;01mfrom\u001b[39;00m \u001b[38;5;21;01mllm_api\u001b[39;00m \u001b[38;5;28;01mimport\u001b[39;00m llm_request_with_retries\n\u001b[0;32m      2\u001b[0m \u001b[38;5;28;01mfrom\u001b[39;00m \u001b[38;5;21;01mprompt\u001b[39;00m \u001b[38;5;28;01mimport\u001b[39;00m PLAN_PROMPT, PARSER_PROMPT, VBA_PROMPT, create_process_prompt\n\u001b[0;32m      3\u001b[0m \u001b[38;5;28;01mfrom\u001b[39;00m \u001b[38;5;21;01mutils\u001b[39;00m \u001b[38;5;28;01mimport\u001b[39;00m parse_active_slide_objects, _call_gpt_api,  parse_llm_response\n",
      "File \u001b[1;32mC:\\Users/wjdrb/PPTAgent-4.16/pptagent\\llm_api.py:2\u001b[0m\n\u001b[0;32m      1\u001b[0m \u001b[38;5;28;01mimport\u001b[39;00m \u001b[38;5;21;01mos\u001b[39;00m\n\u001b[1;32m----> 2\u001b[0m \u001b[38;5;28;01mfrom\u001b[39;00m \u001b[38;5;21;01mloguru\u001b[39;00m \u001b[38;5;28;01mimport\u001b[39;00m logger\n\u001b[0;32m      3\u001b[0m \u001b[38;5;28;01mfrom\u001b[39;00m \u001b[38;5;21;01mopenai\u001b[39;00m \u001b[38;5;28;01mimport\u001b[39;00m OpenAI\n\u001b[0;32m      4\u001b[0m \u001b[38;5;28;01mimport\u001b[39;00m \u001b[38;5;21;01myaml\u001b[39;00m\n",
      "\u001b[1;31mModuleNotFoundError\u001b[0m: No module named 'loguru'"
     ]
    }
   ],
   "source": [
    "from main_original import *"
   ]
  },
  {
   "cell_type": "code",
   "execution_count": 10,
   "id": "8e5ef644",
   "metadata": {},
   "outputs": [
    {
     "ename": "ModuleNotFoundError",
     "evalue": "No module named 'classes'",
     "output_type": "error",
     "traceback": [
      "\u001b[1;31m---------------------------------------------------------------------------\u001b[0m",
      "\u001b[1;31mModuleNotFoundError\u001b[0m                       Traceback (most recent call last)",
      "Cell \u001b[1;32mIn[10], line 4\u001b[0m\n\u001b[0;32m      2\u001b[0m \u001b[38;5;28;01mimport\u001b[39;00m \u001b[38;5;21;01mos\u001b[39;00m\n\u001b[0;32m      3\u001b[0m \u001b[38;5;28;01mfrom\u001b[39;00m \u001b[38;5;21;01mtyping\u001b[39;00m \u001b[38;5;28;01mimport\u001b[39;00m Callable\n\u001b[1;32m----> 4\u001b[0m \u001b[38;5;28;01mfrom\u001b[39;00m \u001b[38;5;21;01mpptagent\u001b[39;00m\u001b[38;5;21;01m.\u001b[39;00m\u001b[38;5;21;01mmain_original\u001b[39;00m \u001b[38;5;28;01mimport\u001b[39;00m main\n\u001b[0;32m      5\u001b[0m \u001b[38;5;28;01mdef\u001b[39;00m \u001b[38;5;21mrun_evaluation\u001b[39m(eval_system):\n\u001b[0;32m      6\u001b[0m \u001b[38;5;250m    \u001b[39m\u001b[38;5;124;03m\"\"\"\u001b[39;00m\n\u001b[0;32m      7\u001b[0m \u001b[38;5;124;03m    Run evaluations on the eval_system for all 37 slides.\u001b[39;00m\n\u001b[0;32m      8\u001b[0m \u001b[38;5;124;03m    \u001b[39;00m\n\u001b[0;32m      9\u001b[0m \u001b[38;5;124;03m    Args:\u001b[39;00m\n\u001b[0;32m     10\u001b[0m \u001b[38;5;124;03m        eval_system: A function that takes a prompt parameter and returns a response\u001b[39;00m\n\u001b[0;32m     11\u001b[0m \u001b[38;5;124;03m    \"\"\"\u001b[39;00m\n",
      "File \u001b[1;32mc:\\Users\\wjdrb\\PPTAgent-4.16\\pptagent\\main_original.py:1\u001b[0m\n\u001b[1;32m----> 1\u001b[0m \u001b[38;5;28;01mfrom\u001b[39;00m \u001b[38;5;21;01mclasses\u001b[39;00m \u001b[38;5;28;01mimport\u001b[39;00m Planner, Parser, Processor, Applier, Reporter, SharedLogMemory\n\u001b[0;32m      2\u001b[0m \u001b[38;5;28;01mfrom\u001b[39;00m \u001b[38;5;21;01mtest_Applier\u001b[39;00m \u001b[38;5;28;01mimport\u001b[39;00m test_Applier\n\u001b[0;32m      3\u001b[0m \u001b[38;5;28;01mimport\u001b[39;00m \u001b[38;5;21;01mjson\u001b[39;00m\n",
      "\u001b[1;31mModuleNotFoundError\u001b[0m: No module named 'classes'"
     ]
    }
   ],
   "source": [
    "import json\n",
    "import os\n",
    "from typing import Callable\n",
    "import pptagent.main_original\n",
    "def run_evaluation(eval_system):\n",
    "    \"\"\"\n",
    "    Run evaluations on the eval_system for all 37 slides.\n",
    "    \n",
    "    Args:\n",
    "        eval_system: A function that takes a prompt parameter and returns a response\n",
    "    \"\"\"\n",
    "    # Load the instruction data\n",
    "    with open('test_instructions.json', 'r', encoding='utf-8') as f:\n",
    "        instruction_data = json.load(f)\n",
    "    \n",
    "    # Create a mapping of ID to prompt\n",
    "    id_to_prompt = {}\n",
    "    for category in instruction_data:\n",
    "        for item in instruction_data[category]:\n",
    "            id_to_prompt[item['id']] = item['prompt']\n",
    "    \n",
    "    # Define the slide mapping as provided\n",
    "    slide_mapping = {\n",
    "        (1, 2, 3, 4): [0, 23, 26, 14],  # 4개, 영어 아닌 텍스트 있음\n",
    "        (5, 6): [15, 30],  # 2개, 푸른 계열 도형들 중 하나만 빨간 도형 있음\n",
    "        (7, 8, 9, 10, 11, 12, 13, 14, 15, 16, 17, 18): [2, 3, 4, 6, 13, 16, 19, 29, 31, 32, 34, 35],  # 12개\n",
    "        (19, 20, 21): [5, 17, 18],  # 3개, typo가 있는 텍스트박스가 있고 좌우에 크기가 다른 이미지가 하나씩 있음\n",
    "        (22,): [7],  # 1개, 대문자 및 punctuation을 잘못한 text가 있음\n",
    "        (23, 24, 25, 26): [8, 10, 11, 1],  # 간단한 영어가 있되 32pt가 아니고 line space가 1.5가 아님\n",
    "        (27, 28, 29): [9, 24, 36],  # 3개, bullet list 텍스트가 있음\n",
    "        (30, 31): [12, 33],  # 2개, 흰색 바탕에 흰색에 가까운 텍스트가 있음\n",
    "        (32, 33, 34): [20, 21, 25],  # 3개, 이미지와 텍스트 쌍이 2쌍 있음\n",
    "        (35,): [22],  # 1개, 서로다른 도형 두개가 있음\n",
    "        (36,): [27],  # 1개, 간단한 데이터가 있는 표가 있음\n",
    "        (37,): [28]   # 1개, 간단한 chart가 있음\n",
    "    }\n",
    "    \n",
    "    # Track total evaluations\n",
    "    total_count = 0\n",
    "    \n",
    "    # Run evaluations for each slide\n",
    "    for slide_range, prompt_ids in slide_mapping.items():\n",
    "        for slide_num in slide_range:\n",
    "            for prompt_id in prompt_ids:\n",
    "                # Get the prompt template and fill in the slide number\n",
    "                prompt_template = id_to_prompt[prompt_id]\n",
    "                prompt = prompt_template.replace('{slide_num}', str(slide_num))\n",
    "                \n",
    "                # Print current evaluation information\n",
    "                print(f\"Evaluating Slide {slide_num} with Prompt ID {prompt_id}: {prompt[:50]}...\" \n",
    "                      if len(prompt) > 50 else f\"Evaluating Slide {slide_num} with Prompt ID {prompt_id}: {prompt}\")\n",
    "                \n",
    "                # Execute the system with the prompt\n",
    "                eval_system(prompt=prompt)\n",
    "                \n",
    "                total_count += 1\n",
    "    \n",
    "    print(f\"\\nCompleted {total_count} evaluations across 37 slides.\")\n",
    "\n",
    "if __name__ == \"__main__\":\n",
    "    # Example usage with a mock evaluation system\n",
    "    def mock_eval_system(prompt):\n",
    "        \"\"\"Mock function to simulate the evaluation system\"\"\"\n",
    "        pass  # Just execute, no return value\n",
    "    \n",
    "    run_evaluation(mock_eval_system)"
   ]
  }
 ],
 "metadata": {
  "kernelspec": {
   "display_name": "ui",
   "language": "python",
   "name": "python3"
  },
  "language_info": {
   "codemirror_mode": {
    "name": "ipython",
    "version": 3
   },
   "file_extension": ".py",
   "mimetype": "text/x-python",
   "name": "python",
   "nbconvert_exporter": "python",
   "pygments_lexer": "ipython3",
   "version": "3.10.16"
  }
 },
 "nbformat": 4,
 "nbformat_minor": 5
}
