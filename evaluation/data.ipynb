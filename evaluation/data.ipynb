{
 "cells": [
  {
   "cell_type": "code",
   "execution_count": 6,
   "id": "b06d4a35",
   "metadata": {},
   "outputs": [
    {
     "data": {
      "text/plain": [
       "{'one': [0, 23, 26, 14],\n",
       " 'two': [15, 30],\n",
       " 'three': [2, 3, 4, 6, 13, 16, 19, 29, 31, 32, 34, 35],\n",
       " 'four': [5, 17, 18],\n",
       " 'five': [7],\n",
       " 'six': [8, 10, 11, 1],\n",
       " 'seven': [9, 24, 36],\n",
       " 'eight': [12, 33],\n",
       " 'nine': [20, 21, 25],\n",
       " 'ten': [22],\n",
       " 'eleven': [27],\n",
       " 'twelve': [28]}"
      ]
     },
     "execution_count": 6,
     "metadata": {},
     "output_type": "execute_result"
    }
   ],
   "source": [
    "{'one': [0, 23, 26, 14],\n",
    " 'two': [15, 30],\n",
    " 'three': [2, 3, 4, 6, 13, 16, 19, 29, 31, 32, 34, 35],\n",
    " 'four': [5, 17, 18],\n",
    " 'five': [7],\n",
    " 'six': [8, 10, 11, 1],\n",
    " 'seven': [9, 24, 36],\n",
    " 'eight': [12, 33],\n",
    " 'nine': [20, 21, 25],\n",
    " 'ten': [22],\n",
    " 'eleven': [27],\n",
    " 'twelve': [28]}"
   ]
  },
  {
   "cell_type": "markdown",
   "id": "014ca159",
   "metadata": {},
   "source": [
    "1. 영어아닌 텍스트가 있음.\n",
    "2. 푸른 계열 도형들 중 하나만 빨간 도형 있음.\n",
    "3. 요약해야할 영어 one column text 가 있고 파란색,밑줄 hyperlink text가 있음.\n",
    "4. typo가 있는 텍스트박스가 있고 좌우에 크기가 다른 이미지가 하나씩 있음.\n",
    "5. 대문자 및 punctuation을 잘못한 text가 있음.\n",
    "6. 간단한 영어가 있되 32pt가 아니고 line space가 1.5가 아님.\n",
    "7. bullet list 텍스트가 있음.\n",
    "8. 흰색 바탕에 흰색에 가까운 텍스트가 있음.\n",
    "9. 이미지와 텍스트 쌍이 2쌍 있음.\n",
    "10. 서로다른 도형 두개가 있음.\n",
    "11. 간단한 데이터가 있는 표가 있음.\n",
    "12. 간단한 chart가 있음."
   ]
  },
  {
   "cell_type": "code",
   "execution_count": null,
   "id": "e3534a6e",
   "metadata": {},
   "outputs": [],
   "source": []
  }
 ],
 "metadata": {
  "kernelspec": {
   "display_name": "ui",
   "language": "python",
   "name": "python3"
  },
  "language_info": {
   "codemirror_mode": {
    "name": "ipython",
    "version": 3
   },
   "file_extension": ".py",
   "mimetype": "text/x-python",
   "name": "python",
   "nbconvert_exporter": "python",
   "pygments_lexer": "ipython3",
   "version": "3.10.16"
  }
 },
 "nbformat": 4,
 "nbformat_minor": 5
}
