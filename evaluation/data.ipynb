{
 "cells": [
  {
   "cell_type": "code",
   "execution_count": 1,
   "id": "2cbb0603",
   "metadata": {},
   "outputs": [],
   "source": [
    "one = [1,24,29]\n",
    "two = [16,34]\n",
    "three = [3,4,5,7,14,17,20,33,35,36,41,43]\n",
    "four = [6,18,19]\n",
    "five = [8]\n",
    "six = [9,11,12,2]\n",
    "seven = [10,25,44]\n",
    "eight = [13,39]\n",
    "nine = [21,22,26,27]\n",
    "ten = [23]\n",
    "eleven = [30]\n",
    "twelve = [31]"
   ]
  },
  {
   "cell_type": "code",
   "execution_count": null,
   "id": "e809c513",
   "metadata": {},
   "outputs": [],
   "source": []
  }
 ],
 "metadata": {
  "kernelspec": {
   "display_name": "ui",
   "language": "python",
   "name": "python3"
  },
  "language_info": {
   "codemirror_mode": {
    "name": "ipython",
    "version": 3
   },
   "file_extension": ".py",
   "mimetype": "text/x-python",
   "name": "python",
   "nbconvert_exporter": "python",
   "pygments_lexer": "ipython3",
   "version": "3.10.16"
  }
 },
 "nbformat": 4,
 "nbformat_minor": 5
}
