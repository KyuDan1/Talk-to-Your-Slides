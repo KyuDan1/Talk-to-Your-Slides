{
 "cells": [
  {
   "cell_type": "code",
   "execution_count": 14,
   "metadata": {},
   "outputs": [
    {
     "data": {
      "text/plain": [
       "1"
      ]
     },
     "execution_count": 14,
     "metadata": {},
     "output_type": "execute_result"
    }
   ],
   "source": [
    "import win32com.client\n",
    "\n",
    "# create a PPT  application\n",
    "App = win32com.client.Dispatch(\"PowerPoint.Application\")\n",
    "App.Visible = True\n",
    "App.Activate\n",
    "\n",
    "# presentation 시작.\n",
    "prs = App.Presentations.Add(-1)\n",
    "#sld = App.ActiveWindow.View.Slide\n",
    "sld = prs.Slides.Add(1,12) # 12:ppLayoutBlank\n",
    "shp = sld.Shapes.AddShape(1, 100, 100, 200, 100)\n",
    "shp.TextFrame.TextRange.Text = \"Hello, World\"\n",
    "shp.Fill.ForeColor.RGB = 42495 #'42495:rgbOrange\n",
    " \n",
    "# msgbox\n",
    "shl = win32com.client.Dispatch(\"wscript.shell\")\n",
    "shl.Popup (\"Hello, world!\")\n"
   ]
  },
  {
   "cell_type": "code",
   "execution_count": 3,
   "metadata": {},
   "outputs": [],
   "source": [
    "prs = App.Presentations.Add(-1)\n"
   ]
  },
  {
   "cell_type": "code",
   "execution_count": 9,
   "metadata": {},
   "outputs": [],
   "source": [
    "sld = prs.Slides.Add(1,12) # 12:ppLayoutBlank\n"
   ]
  },
  {
   "cell_type": "code",
   "execution_count": 8,
   "metadata": {},
   "outputs": [],
   "source": [
    "shp = sld.Shapes.AddShape(50, 100, 100, 200, 100)\n"
   ]
  },
  {
   "cell_type": "code",
   "execution_count": 16,
   "metadata": {},
   "outputs": [
    {
     "name": "stdout",
     "output_type": "stream",
     "text": [
      "슬라이드 2의 제목 색상을 파란색으로 변경했습니다.\n",
      "슬라이드 3의 제목 색상을 파란색으로 변경했습니다.\n",
      "슬라이드 4의 제목 색상을 파란색으로 변경했습니다.\n",
      "슬라이드 5의 제목 색상을 파란색으로 변경했습니다.\n",
      "작업이 완료되었습니다.\n"
     ]
    }
   ],
   "source": [
    "import win32com.client\n",
    "\n",
    "# 이미 실행 중인 PowerPoint 애플리케이션에 연결\n",
    "App = win32com.client.GetObject(Class=\"PowerPoint.Application\")\n",
    "\n",
    "# 현재 활성화된 프레젠테이션 가져오기\n",
    "presentation = App.ActivePresentation\n",
    "\n",
    "# RGB 색상 값 정의 (파란색: R=0, G=0, B=255)\n",
    "blue_color_rgb = 25  # 파란색의 RGB 값 (win32com에서는 RGB 순서가 반대)\n",
    "\n",
    "# 1번부터 5번 슬라이드까지 반복\n",
    "for slide_index in range(1, 6):\n",
    "    try:\n",
    "        # 슬라이드 가져오기 (PowerPoint는 1부터 인덱싱)\n",
    "        slide = presentation.Slides(slide_index)\n",
    "        \n",
    "        # 슬라이드의 모든 도형 순회\n",
    "        for shape_index in range(1, slide.Shapes.Count + 1):\n",
    "            shape = slide.Shapes(shape_index)\n",
    "            \n",
    "            # 제목 플레이스홀더인지 확인 (PlaceholderType=1은 제목 플레이스홀더)\n",
    "            if shape.Type == 14:  # msoPlaceholder\n",
    "                if shape.PlaceholderFormat.Type == 1:  # ppPlaceholderTitle\n",
    "                    # 텍스트 프레임이 있고 텍스트가 있는지 확인\n",
    "                    if hasattr(shape, \"TextFrame\") and shape.TextFrame.HasText:\n",
    "                        # 텍스트 색상을 파란색으로 변경\n",
    "                        shape.TextFrame.TextRange.Font.Color.RGB = blue_color_rgb\n",
    "                        print(f\"슬라이드 {slide_index}의 제목 색상을 파란색으로 변경했습니다.\")\n",
    "    except Exception as e:\n",
    "        print(f\"슬라이드 {slide_index} 처리 중 오류 발생: {e}\")\n",
    "\n",
    "print(\"작업이 완료되었습니다.\")"
   ]
  },
  {
   "cell_type": "code",
   "execution_count": 17,
   "metadata": {},
   "outputs": [
    {
     "name": "stdout",
     "output_type": "stream",
     "text": [
      "슬라이드 제목의 색상이 파란색으로 변경되었습니다.\n"
     ]
    }
   ],
   "source": [
    "import win32com.client\n",
    "\n",
    "# PowerPoint 응용 프로그램에 연결\n",
    "ppt = win32com.client.Dispatch(\"PowerPoint.Application\")\n",
    "\n",
    "# 현재 활성 프레젠테이션 가져오기\n",
    "presentation = ppt.ActivePresentation\n",
    "\n",
    "# 파란색 RGB 값\n",
    "blue_color = 0x0000FF\n",
    "\n",
    "# 1번 슬라이드부터 5번 슬라이드까지 반복\n",
    "for i in range(1, 6):\n",
    "    slide = presentation.Slides(i)\n",
    "    \n",
    "    # 슬라이드의 모든 쉐이프 반복\n",
    "    for shape in slide.Shapes:\n",
    "        \n",
    "        # shape이 텍스트 프레임을 가지는지 확인\n",
    "        if shape.HasTextFrame:\n",
    "            text_frame = shape.TextFrame\n",
    "            \n",
    "            # 텍스트가 제목에 해당하는 경우에만 색상 변경\n",
    "            if text_frame.TextRange.Text == slide.Shapes.Title.TextFrame.TextRange.Text:\n",
    "                # 텍스트 색상을 파란색으로 변경\n",
    "                text_frame.TextRange.Font.Color.RGB = blue_color\n",
    "\n",
    "print(\"슬라이드 제목의 색상이 파란색으로 변경되었습니다.\")"
   ]
  },
  {
   "cell_type": "code",
   "execution_count": null,
   "metadata": {},
   "outputs": [],
   "source": []
  }
 ],
 "metadata": {
  "kernelspec": {
   "display_name": "ui",
   "language": "python",
   "name": "python3"
  },
  "language_info": {
   "codemirror_mode": {
    "name": "ipython",
    "version": 3
   },
   "file_extension": ".py",
   "mimetype": "text/x-python",
   "name": "python",
   "nbconvert_exporter": "python",
   "pygments_lexer": "ipython3",
   "version": "3.10.16"
  }
 },
 "nbformat": 4,
 "nbformat_minor": 2
}
